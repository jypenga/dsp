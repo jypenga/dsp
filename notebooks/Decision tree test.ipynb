{
 "cells": [
  {
   "cell_type": "code",
   "execution_count": 62,
   "id": "15ea37b6",
   "metadata": {},
   "outputs": [],
   "source": [
    "import pandas as pd\n",
    "import numpy as np\n",
    "import matplotlib.pyplot as plt\n",
    "\n",
    "import random \n",
    "\n",
    "from sklearn import tree\n",
    "from sklearn.model_selection import train_test_split\n",
    "from sklearn.tree import DecisionTreeClassifier\n",
    "from sklearn.preprocessing import OneHotEncoder\n",
    "from sklearn.metrics import accuracy_score"
   ]
  },
  {
   "cell_type": "code",
   "execution_count": 70,
   "id": "b1ec6c19",
   "metadata": {},
   "outputs": [],
   "source": [
    "options = {'Real bad': 1, 'Normal': 2, 'All good': 3}\n",
    "\n",
    "heart_rate = []\n",
    "steps = []\n",
    "sleep = []\n",
    "\n",
    "for x in range(10000):\n",
    "    heart_rate.append(random.choice(list(options.keys())))\n",
    "    steps.append(random.randint(0, 1000))\n",
    "    sleep.append(random.randint(5, 8))\n",
    "    \n",
    "def verdict(df):\n",
    "    \n",
    "    # mean and std\n",
    "    steps_mean = df.Steps.mean()\n",
    "    steps_std = df.Steps.std()\n",
    "    \n",
    "    sleep_mean = df.Sleep.mean()\n",
    "    sleep_std = df.Sleep.std()\n",
    "    \n",
    "    verdict = []\n",
    "\n",
    "    for index, row in df.iterrows():\n",
    "        count = 0\n",
    "        # heart rate\n",
    "        count += options[row.HR]\n",
    "\n",
    "        # steps\n",
    "        if row.Steps < (steps_mean - 3*steps_std) or row.Steps > (steps_mean + 3*steps_std):\n",
    "            count += 1\n",
    "        elif row.Steps > (steps_mean - steps_std) or row.Steps < (steps_mean + steps_std):\n",
    "            count += 3\n",
    "        else:\n",
    "            count += 2\n",
    "\n",
    "        # sleep\n",
    "        if row.Sleep < (sleep_mean - sleep_std):\n",
    "            count += 1\n",
    "        elif row.Sleep > (sleep_mean + sleep_std):\n",
    "            count += 3\n",
    "        else: \n",
    "            count += 2\n",
    "\n",
    "        if count < 6:\n",
    "            verdict.append(1)\n",
    "        elif count > 8:\n",
    "            verdict.append(3)\n",
    "        else:\n",
    "            verdict.append(2)\n",
    "\n",
    "        # reset\n",
    "        count = 0\n",
    "        \n",
    "    return verdict"
   ]
  },
  {
   "cell_type": "code",
   "execution_count": 71,
   "id": "aaf164fb",
   "metadata": {},
   "outputs": [
    {
     "data": {
      "text/html": [
       "<div>\n",
       "<style scoped>\n",
       "    .dataframe tbody tr th:only-of-type {\n",
       "        vertical-align: middle;\n",
       "    }\n",
       "\n",
       "    .dataframe tbody tr th {\n",
       "        vertical-align: top;\n",
       "    }\n",
       "\n",
       "    .dataframe thead th {\n",
       "        text-align: right;\n",
       "    }\n",
       "</style>\n",
       "<table border=\"1\" class=\"dataframe\">\n",
       "  <thead>\n",
       "    <tr style=\"text-align: right;\">\n",
       "      <th></th>\n",
       "      <th>HR</th>\n",
       "      <th>Steps</th>\n",
       "      <th>Sleep</th>\n",
       "      <th>Score</th>\n",
       "      <th>HR_All good</th>\n",
       "      <th>HR_Normal</th>\n",
       "      <th>HR_Real bad</th>\n",
       "    </tr>\n",
       "  </thead>\n",
       "  <tbody>\n",
       "    <tr>\n",
       "      <th>0</th>\n",
       "      <td>Real bad</td>\n",
       "      <td>592</td>\n",
       "      <td>5</td>\n",
       "      <td>1</td>\n",
       "      <td>0</td>\n",
       "      <td>0</td>\n",
       "      <td>1</td>\n",
       "    </tr>\n",
       "    <tr>\n",
       "      <th>1</th>\n",
       "      <td>Normal</td>\n",
       "      <td>421</td>\n",
       "      <td>8</td>\n",
       "      <td>2</td>\n",
       "      <td>0</td>\n",
       "      <td>1</td>\n",
       "      <td>0</td>\n",
       "    </tr>\n",
       "    <tr>\n",
       "      <th>2</th>\n",
       "      <td>All good</td>\n",
       "      <td>763</td>\n",
       "      <td>7</td>\n",
       "      <td>2</td>\n",
       "      <td>1</td>\n",
       "      <td>0</td>\n",
       "      <td>0</td>\n",
       "    </tr>\n",
       "    <tr>\n",
       "      <th>3</th>\n",
       "      <td>Normal</td>\n",
       "      <td>111</td>\n",
       "      <td>8</td>\n",
       "      <td>2</td>\n",
       "      <td>0</td>\n",
       "      <td>1</td>\n",
       "      <td>0</td>\n",
       "    </tr>\n",
       "    <tr>\n",
       "      <th>4</th>\n",
       "      <td>Normal</td>\n",
       "      <td>208</td>\n",
       "      <td>5</td>\n",
       "      <td>2</td>\n",
       "      <td>0</td>\n",
       "      <td>1</td>\n",
       "      <td>0</td>\n",
       "    </tr>\n",
       "    <tr>\n",
       "      <th>...</th>\n",
       "      <td>...</td>\n",
       "      <td>...</td>\n",
       "      <td>...</td>\n",
       "      <td>...</td>\n",
       "      <td>...</td>\n",
       "      <td>...</td>\n",
       "      <td>...</td>\n",
       "    </tr>\n",
       "    <tr>\n",
       "      <th>9995</th>\n",
       "      <td>Real bad</td>\n",
       "      <td>664</td>\n",
       "      <td>7</td>\n",
       "      <td>2</td>\n",
       "      <td>0</td>\n",
       "      <td>0</td>\n",
       "      <td>1</td>\n",
       "    </tr>\n",
       "    <tr>\n",
       "      <th>9996</th>\n",
       "      <td>All good</td>\n",
       "      <td>227</td>\n",
       "      <td>6</td>\n",
       "      <td>2</td>\n",
       "      <td>1</td>\n",
       "      <td>0</td>\n",
       "      <td>0</td>\n",
       "    </tr>\n",
       "    <tr>\n",
       "      <th>9997</th>\n",
       "      <td>Normal</td>\n",
       "      <td>255</td>\n",
       "      <td>7</td>\n",
       "      <td>2</td>\n",
       "      <td>0</td>\n",
       "      <td>1</td>\n",
       "      <td>0</td>\n",
       "    </tr>\n",
       "    <tr>\n",
       "      <th>9998</th>\n",
       "      <td>All good</td>\n",
       "      <td>805</td>\n",
       "      <td>6</td>\n",
       "      <td>2</td>\n",
       "      <td>1</td>\n",
       "      <td>0</td>\n",
       "      <td>0</td>\n",
       "    </tr>\n",
       "    <tr>\n",
       "      <th>9999</th>\n",
       "      <td>Normal</td>\n",
       "      <td>19</td>\n",
       "      <td>7</td>\n",
       "      <td>2</td>\n",
       "      <td>0</td>\n",
       "      <td>1</td>\n",
       "      <td>0</td>\n",
       "    </tr>\n",
       "  </tbody>\n",
       "</table>\n",
       "<p>10000 rows × 7 columns</p>\n",
       "</div>"
      ],
      "text/plain": [
       "            HR  Steps  Sleep  Score  HR_All good  HR_Normal  HR_Real bad\n",
       "0     Real bad    592      5      1            0          0            1\n",
       "1       Normal    421      8      2            0          1            0\n",
       "2     All good    763      7      2            1          0            0\n",
       "3       Normal    111      8      2            0          1            0\n",
       "4       Normal    208      5      2            0          1            0\n",
       "...        ...    ...    ...    ...          ...        ...          ...\n",
       "9995  Real bad    664      7      2            0          0            1\n",
       "9996  All good    227      6      2            1          0            0\n",
       "9997    Normal    255      7      2            0          1            0\n",
       "9998  All good    805      6      2            1          0            0\n",
       "9999    Normal     19      7      2            0          1            0\n",
       "\n",
       "[10000 rows x 7 columns]"
      ]
     },
     "execution_count": 71,
     "metadata": {},
     "output_type": "execute_result"
    }
   ],
   "source": [
    "df = pd.DataFrame(data = {'HR': heart_rate, 'Steps': steps, 'Sleep': sleep})\n",
    "\n",
    "# 1 is real bad; 2 is normal; 3 is real good\n",
    "df['Score'] = verdict(df)\n",
    "\n",
    "# one hot encoding\n",
    "dummy = pd.get_dummies(df['HR'], prefix = 'HR')\n",
    "new_df = pd.merge(left = df, right = dummy, left_index = True, right_index = True)\n",
    "new_df"
   ]
  },
  {
   "cell_type": "code",
   "execution_count": 72,
   "id": "83b02df2",
   "metadata": {},
   "outputs": [],
   "source": [
    "X = new_df[['Steps', 'Sleep', 'HR_All good', 'HR_Normal', 'HR_Real bad']]\n",
    "y = new_df.Score\n",
    "\n",
    "x_train, x_test, y_train, y_test = train_test_split(X, y, train_size = 0.7, test_size = 0.3, random_state = 42)"
   ]
  },
  {
   "cell_type": "code",
   "execution_count": 81,
   "id": "231b8f76",
   "metadata": {},
   "outputs": [
    {
     "name": "stdout",
     "output_type": "stream",
     "text": [
      "Accuracy:  100.0 %\n"
     ]
    }
   ],
   "source": [
    "model = DecisionTreeClassifier(max_depth = 3) # anders returned ie altijd 100% --> overfitting\n",
    "model = model.fit(x_train, y_train)\n",
    "\n",
    "pred = model.predict(x_test)\n",
    "\n",
    "print(\"Accuracy: \", round(accuracy_score(y_test, pred) * 100, 1), '%')"
   ]
  },
  {
   "cell_type": "code",
   "execution_count": 82,
   "id": "67579924",
   "metadata": {},
   "outputs": [
    {
     "data": {
      "text/plain": [
       "<AxesSubplot:ylabel='Score'>"
      ]
     },
     "execution_count": 82,
     "metadata": {},
     "output_type": "execute_result"
    },
    {
     "data": {
      "image/png": "[encoded data removed]",
      "text/plain": [
       "<Figure size 432x288 with 1 Axes>"
      ]
     },
     "metadata": {},
     "output_type": "display_data"
    }
   ],
   "source": [
    "new_df.Score.value_counts().plot(kind = 'pie') # ff checken wat de verdeling is"
   ]
  },
  {
   "cell_type": "code",
   "execution_count": 83,
   "id": "546741f6",
   "metadata": {},
   "outputs": [
    {
     "name": "stdout",
     "output_type": "stream",
     "text": [
      "|--- feature_1 <= 7.50\n",
      "|   |--- feature_4 <= 0.50\n",
      "|   |   |--- class: 2\n",
      "|   |--- feature_4 >  0.50\n",
      "|   |   |--- feature_1 <= 5.50\n",
      "|   |   |   |--- class: 1\n",
      "|   |   |--- feature_1 >  5.50\n",
      "|   |   |   |--- class: 2\n",
      "|--- feature_1 >  7.50\n",
      "|   |--- feature_2 <= 0.50\n",
      "|   |   |--- class: 2\n",
      "|   |--- feature_2 >  0.50\n",
      "|   |   |--- class: 3\n",
      "\n"
     ]
    }
   ],
   "source": [
    "text_representation = tree.export_text(model)\n",
    "print(text_representation)"
   ]
  },
  {
   "cell_type": "code",
   "execution_count": 84,
   "id": "6c4d3312",
   "metadata": {},
   "outputs": [
    {
     "data": {
      "image/png": "[encoded data removed]",
      "text/plain": [
       "<Figure size 1080x360 with 1 Axes>"
      ]
     },
     "metadata": {
      "needs_background": "light"
     },
     "output_type": "display_data"
    }
   ],
   "source": [
    "fig = plt.figure(figsize = (15, 5))\n",
    "\n",
    "features = ['Steps', 'Sleep', 'HR_All good', 'HR_Normal', 'HR_Real bad']\n",
    "target = y.unique().astype(str)\n",
    "\n",
    "_ = tree.plot_tree(model, feature_names = features, class_names = target, filled = True)"
   ]
  },
  {
   "cell_type": "code",
   "execution_count": null,
   "id": "0ddc98f3",
   "metadata": {},
   "outputs": [],
   "source": []
  }
 ],
 "metadata": {
  "kernelspec": {
   "display_name": "Python 3 (ipykernel)",
   "language": "python",
   "name": "python3"
  },
  "language_info": {
   "codemirror_mode": {
    "name": "ipython",
    "version": 3
   },
   "file_extension": ".py",
   "mimetype": "text/x-python",
   "name": "python",
   "nbconvert_exporter": "python",
   "pygments_lexer": "ipython3",
   "version": "3.9.10"
  }
 },
 "nbformat": 4,
 "nbformat_minor": 5
}
