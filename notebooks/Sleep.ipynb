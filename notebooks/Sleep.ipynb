{
 "cells": [
  {
   "cell_type": "code",
   "execution_count": 28,
   "id": "5e05e12e",
   "metadata": {},
   "outputs": [],
   "source": [
    "import pandas as pd\n",
    "import numpy as np\n",
    "import datetime as dt\n",
    "import matplotlib.pyplot as plt\n",
    "import seaborn as sns\n",
    "import datetime as dt\n",
    "\n",
    "from datetime import datetime\n",
    "from sklearn.linear_model import LinearRegression"
   ]
  },
  {
   "cell_type": "code",
   "execution_count": 2,
   "id": "0fc67c74",
   "metadata": {},
   "outputs": [],
   "source": [
    "sleep = pd.read_csv('Data/sleepDay_merged.csv')\n",
    "sleep['SleepDay'] = sleep.SleepDay.apply(lambda s: datetime.strptime(s, '%m/%d/%Y %I:%M:%S %p'))\n",
    "sleep['date'] = sleep.SleepDay.dt.date"
   ]
  },
  {
   "cell_type": "code",
   "execution_count": 49,
   "id": "d134e6c1",
   "metadata": {},
   "outputs": [
    {
     "data": {
      "image/png": "[encoded data removed]",
      "text/plain": [
       "<Figure size 1152x360 with 1 Axes>"
      ]
     },
     "metadata": {
      "needs_background": "light"
     },
     "output_type": "display_data"
    },
    {
     "name": "stdout",
     "output_type": "stream",
     "text": [
      "On average, person 5553957443 sleeps 8 hours per night.\n"
     ]
    }
   ],
   "source": [
    "rijst = sleep.copy()\n",
    "\n",
    "p1 = 5553957443\n",
    "p2 = 6962181067\n",
    "\n",
    "rijst = rijst[rijst.Id == p1]\n",
    "rijst['quality'] = np.where(rijst.TotalMinutesAsleep > rijst.TotalMinutesAsleep.mean(), 'Good', 'Bad')\n",
    "rijst['sleepInHours'] = round(rijst.TotalMinutesAsleep / 60, 2)\n",
    "\n",
    "# plot figure\n",
    "plt.figure(figsize = (16, 5))\n",
    "plt.title('Sleep') \n",
    "\n",
    "color = []\n",
    "\n",
    "for element in rijst.quality:\n",
    "    if element == 'Bad':\n",
    "        color.append('red')\n",
    "    else:\n",
    "        color.append('green')\n",
    "\n",
    "plt.bar(rijst.date, rijst.sleepInHours, color = color)\n",
    "\n",
    "plt.xticks(rijst.date[0::1], rotation = 90)\n",
    "plt.xlabel('Date')\n",
    "plt.ylabel('Hours')\n",
    "plt.grid()\n",
    "plt.show()\n",
    "\n",
    "print('On average, person {} sleeps {} hours per night.'.format(p1, round(rijst.sleepInHours.mean(), 1)))"
   ]
  },
  {
   "cell_type": "markdown",
   "id": "771826ad",
   "metadata": {},
   "source": [
    "# Simple Linear Regression"
   ]
  },
  {
   "cell_type": "code",
   "execution_count": null,
   "id": "884fe026",
   "metadata": {},
   "outputs": [],
   "source": [
    "# x_train = rijst.date.map(dt.date.toordinal).values[:25].reshape(-1, 1)\n",
    "# y_train = rijst.TotalMinutesAsleep.values[:25]\n",
    "\n",
    "# x_test = rijst.date.map(dt.date.toordinal).values[25:].reshape(-1, 1)\n",
    "\n",
    "# model = LinearRegression()\n",
    "# model.fit(x_train, y_train)\n",
    "# pred = model.predict(x_test)\n",
    "\n",
    "# true = rijst.TotalMinutesAsleep.values[25:]\n",
    "# pred, true"
   ]
  },
  {
   "cell_type": "code",
   "execution_count": null,
   "id": "01caeea5",
   "metadata": {},
   "outputs": [],
   "source": [
    "# plt.plot(x_train, y_train)"
   ]
  }
 ],
 "metadata": {
  "kernelspec": {
   "display_name": "Python 3 (ipykernel)",
   "language": "python",
   "name": "python3"
  },
  "language_info": {
   "codemirror_mode": {
    "name": "ipython",
    "version": 3
   },
   "file_extension": ".py",
   "mimetype": "text/x-python",
   "name": "python",
   "nbconvert_exporter": "python",
   "pygments_lexer": "ipython3",
   "version": "3.9.7"
  }
 },
 "nbformat": 4,
 "nbformat_minor": 5
}
